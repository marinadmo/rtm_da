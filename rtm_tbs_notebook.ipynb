{
 "cells": [
  {
   "cell_type": "markdown",
   "id": "257cda66-0e1e-4e0b-adba-2726a34655b9",
   "metadata": {},
   "source": [
    "# This notebook produces RTM TBs from TOPAZ5 SIC, AMSR2 and ERA5 data using the RTM software"
   ]
  },
  {
   "cell_type": "markdown",
   "id": "2d1899d7-7ee8-462c-9907-fc2828968c15",
   "metadata": {},
   "source": [
    "### Import python code which contains all the needed functions to produce the RTM TBs"
   ]
  },
  {
   "cell_type": "code",
   "execution_count": 3,
   "id": "1dff4a6c-969a-45ab-9cac-c5c29e91b620",
   "metadata": {},
   "outputs": [],
   "source": [
    "import config\n",
    "from rtm_dal.main_fcts_rtm_tbs import *"
   ]
  },
  {
   "cell_type": "markdown",
   "id": "ed78537f-e586-453d-a515-31a2053df59e",
   "metadata": {},
   "source": [
    "### Define date for analysis, the forecast days of the model output (background state), and all the paths and file names needed"
   ]
  },
  {
   "cell_type": "code",
   "execution_count": 4,
   "id": "1aafe43a-1222-4e9d-8f97-a40a1ead064b",
   "metadata": {},
   "outputs": [],
   "source": [
    "date = config.date; \n",
    "fdays = config.fdays;\n",
    "main_dir = config.main_data_dir; \n",
    "tpd_dir = config.tpd_data_dir; \n",
    "json_dir = config.tpa_data_dir;\n",
    "topaz5_dir = config.model_data_dir;\n",
    "sat_dir = config.sat_data_dir;\n",
    "rtm_tbs_dir = config.rtm_tbs_dir;\n",
    "coeffs_filename_date = config.coeffs_filename;"
   ]
  },
  {
   "cell_type": "markdown",
   "id": "980ce299-4bcc-4f31-826b-877ffbe87f67",
   "metadata": {},
   "source": [
    "### Computation of DAL (Distance Along the Line) from TPD and TPA files"
   ]
  },
  {
   "cell_type": "code",
   "execution_count": 8,
   "id": "d8de7a6f-fd44-417a-9c8b-fcad80253e0d",
   "metadata": {},
   "outputs": [
    {
     "name": "stdout",
     "output_type": "stream",
     "text": [
      "TPA file:  /lustre/storeB/project/fou/fd/project/osisaf/osisaf-archive-data-oper/ice/conc/dm1-v3p0/tpa/2024/01/\n",
      "TPD file:  /lustre/storeB/project/fou/fd/project/acciberg/marina/tpd_files/dyn_tp_nh_amsr_gw1_ucorr_20240112_oneday.nc\n",
      "TPA file:  /lustre/storeB/project/fou/fd/project/osisaf/osisaf-archive-data-oper/ice/conc/dm1-v3p0/tpa/2024/01/\n",
      "TPD file:  /lustre/storeB/project/fou/fd/project/acciberg/marina/tpd_files/dyn_tp_nh_amsr_gw1_ucorr_20240113_oneday.nc\n",
      "TPA file:  /lustre/storeB/project/fou/fd/project/osisaf/osisaf-archive-data-oper/ice/conc/dm1-v3p0/tpa/2024/01/\n",
      "TPD file:  /lustre/storeB/project/fou/fd/project/acciberg/marina/tpd_files/dyn_tp_nh_amsr_gw1_ucorr_20240114_oneday.nc\n",
      "TPA file:  /lustre/storeB/project/fou/fd/project/osisaf/osisaf-archive-data-oper/ice/conc/dm1-v3p0/tpa/2024/01/\n",
      "TPD file:  /lustre/storeB/project/fou/fd/project/acciberg/marina/tpd_files/dyn_tp_nh_amsr_gw1_ucorr_20240115_oneday.nc\n",
      "TPA file:  /lustre/storeB/project/fou/fd/project/osisaf/osisaf-archive-data-oper/ice/conc/dm1-v3p0/tpa/2024/01/\n",
      "TPD file:  /lustre/storeB/project/fou/fd/project/acciberg/marina/tpd_files/dyn_tp_nh_amsr_gw1_ucorr_20240116_oneday.nc\n",
      "TPA file:  /lustre/storeB/project/fou/fd/project/osisaf/osisaf-archive-data-oper/ice/conc/dm1-v3p0/tpa/2024/01/\n",
      "TPD file:  /lustre/storeB/project/fou/fd/project/acciberg/marina/tpd_files/dyn_tp_nh_amsr_gw1_ucorr_20240117_oneday.nc\n",
      "TPA file:  /lustre/storeB/project/fou/fd/project/osisaf/osisaf-archive-data-oper/ice/conc/dm1-v3p0/tpa/2024/01/\n",
      "TPD file:  /lustre/storeB/project/fou/fd/project/acciberg/marina/tpd_files/dyn_tp_nh_amsr_gw1_ucorr_20240118_oneday.nc\n"
     ]
    }
   ],
   "source": [
    "dal_norm, _, list_tpd_files = compute_dal() "
   ]
  },
  {
   "cell_type": "markdown",
   "id": "f848ae00-d6e1-4749-8c46-ec608997c1a6",
   "metadata": {},
   "source": [
    "### Computation of 2D-plane coefficients. This 2D-plane is defined by the relation between Emissivity, DAL and T2M"
   ]
  },
  {
   "cell_type": "code",
   "execution_count": 9,
   "id": "b1dbeab2-27bf-44aa-b63e-bf8e6006a77f",
   "metadata": {},
   "outputs": [
    {
     "name": "stdout",
     "output_type": "stream",
     "text": [
      "Channel : tb19v\n",
      "coefficients of equation of plane, (a1, a2):  [-0.00334133  0.00102682]\n",
      "value of intercept, c: 1.8677051457399858\n",
      "Channel : tb19h\n",
      "coefficients of equation of plane, (a1, a2):  [-0.00334299  0.00138162]\n",
      "value of intercept, c: 1.7951181529686668\n",
      "Channel : tb37v\n",
      "coefficients of equation of plane, (a1, a2):  [-0.00406972  0.00307393]\n",
      "value of intercept, c: 2.0531550933114007\n",
      "Channel : tb37h\n",
      "coefficients of equation of plane, (a1, a2):  [-0.00396601  0.00310142]\n",
      "value of intercept, c: 1.9618210892698338\n"
     ]
    }
   ],
   "source": [
    "compute_coeffs(dal_norm, list_tpd_files)"
   ]
  },
  {
   "cell_type": "markdown",
   "id": "365652fd-f25f-4be8-b1df-951e9b81e019",
   "metadata": {},
   "source": [
    "### Computation of RTM TBs"
   ]
  },
  {
   "cell_type": "code",
   "execution_count": 10,
   "id": "edf8eeda-57a2-4fb4-b247-cec202517eac",
   "metadata": {},
   "outputs": [
    {
     "name": "stdout",
     "output_type": "stream",
     "text": [
      "10 20240109\n",
      "Computing TBs for channel  19v\n",
      "Computing TBs for member  mem001\n"
     ]
    },
    {
     "name": "stderr",
     "output_type": "stream",
     "text": [
      "/home/marinadm/rtm_da/rtm_dal/rtm_amsr_fcts.py:152: RuntimeWarning: invalid value encountered in divide\n",
      "  epsilon = epsilon_R + ((epsilon_S - epsilon_R)/(1.0 + ((cmath.sqrt(-1) * lambda_R)/llambda)**(1.0 - ny))) - ((2.0 * cmath.sqrt(-1) * sigma * llambda)/light_speed)\n"
     ]
    },
    {
     "name": "stdout",
     "output_type": "stream",
     "text": [
      "Computing TBs for member  mem002\n"
     ]
    },
    {
     "name": "stderr",
     "output_type": "stream",
     "text": [
      "/home/marinadm/rtm_da/rtm_dal/rtm_amsr_fcts.py:152: RuntimeWarning: invalid value encountered in divide\n",
      "  epsilon = epsilon_R + ((epsilon_S - epsilon_R)/(1.0 + ((cmath.sqrt(-1) * lambda_R)/llambda)**(1.0 - ny))) - ((2.0 * cmath.sqrt(-1) * sigma * llambda)/light_speed)\n"
     ]
    },
    {
     "name": "stdout",
     "output_type": "stream",
     "text": [
      "Computing TBs for member  mem003\n"
     ]
    },
    {
     "name": "stderr",
     "output_type": "stream",
     "text": [
      "/home/marinadm/rtm_da/rtm_dal/rtm_amsr_fcts.py:152: RuntimeWarning: invalid value encountered in divide\n",
      "  epsilon = epsilon_R + ((epsilon_S - epsilon_R)/(1.0 + ((cmath.sqrt(-1) * lambda_R)/llambda)**(1.0 - ny))) - ((2.0 * cmath.sqrt(-1) * sigma * llambda)/light_speed)\n"
     ]
    },
    {
     "name": "stdout",
     "output_type": "stream",
     "text": [
      "Computing TBs for member  mem004\n"
     ]
    },
    {
     "name": "stderr",
     "output_type": "stream",
     "text": [
      "/home/marinadm/rtm_da/rtm_dal/rtm_amsr_fcts.py:152: RuntimeWarning: invalid value encountered in divide\n",
      "  epsilon = epsilon_R + ((epsilon_S - epsilon_R)/(1.0 + ((cmath.sqrt(-1) * lambda_R)/llambda)**(1.0 - ny))) - ((2.0 * cmath.sqrt(-1) * sigma * llambda)/light_speed)\n"
     ]
    },
    {
     "name": "stdout",
     "output_type": "stream",
     "text": [
      "Computing TBs for member  mem005\n"
     ]
    },
    {
     "name": "stderr",
     "output_type": "stream",
     "text": [
      "/home/marinadm/rtm_da/rtm_dal/rtm_amsr_fcts.py:152: RuntimeWarning: invalid value encountered in divide\n",
      "  epsilon = epsilon_R + ((epsilon_S - epsilon_R)/(1.0 + ((cmath.sqrt(-1) * lambda_R)/llambda)**(1.0 - ny))) - ((2.0 * cmath.sqrt(-1) * sigma * llambda)/light_speed)\n"
     ]
    },
    {
     "name": "stdout",
     "output_type": "stream",
     "text": [
      "Computing TBs for member  mem006\n"
     ]
    },
    {
     "name": "stderr",
     "output_type": "stream",
     "text": [
      "/home/marinadm/rtm_da/rtm_dal/rtm_amsr_fcts.py:152: RuntimeWarning: invalid value encountered in divide\n",
      "  epsilon = epsilon_R + ((epsilon_S - epsilon_R)/(1.0 + ((cmath.sqrt(-1) * lambda_R)/llambda)**(1.0 - ny))) - ((2.0 * cmath.sqrt(-1) * sigma * llambda)/light_speed)\n"
     ]
    },
    {
     "name": "stdout",
     "output_type": "stream",
     "text": [
      "Computing TBs for member  mem007\n"
     ]
    },
    {
     "name": "stderr",
     "output_type": "stream",
     "text": [
      "/home/marinadm/rtm_da/rtm_dal/rtm_amsr_fcts.py:152: RuntimeWarning: invalid value encountered in divide\n",
      "  epsilon = epsilon_R + ((epsilon_S - epsilon_R)/(1.0 + ((cmath.sqrt(-1) * lambda_R)/llambda)**(1.0 - ny))) - ((2.0 * cmath.sqrt(-1) * sigma * llambda)/light_speed)\n"
     ]
    },
    {
     "name": "stdout",
     "output_type": "stream",
     "text": [
      "Computing TBs for member  mem008\n"
     ]
    },
    {
     "name": "stderr",
     "output_type": "stream",
     "text": [
      "/home/marinadm/rtm_da/rtm_dal/rtm_amsr_fcts.py:152: RuntimeWarning: invalid value encountered in divide\n",
      "  epsilon = epsilon_R + ((epsilon_S - epsilon_R)/(1.0 + ((cmath.sqrt(-1) * lambda_R)/llambda)**(1.0 - ny))) - ((2.0 * cmath.sqrt(-1) * sigma * llambda)/light_speed)\n"
     ]
    },
    {
     "name": "stdout",
     "output_type": "stream",
     "text": [
      "Computing TBs for member  mem009\n"
     ]
    },
    {
     "name": "stderr",
     "output_type": "stream",
     "text": [
      "/home/marinadm/rtm_da/rtm_dal/rtm_amsr_fcts.py:152: RuntimeWarning: invalid value encountered in divide\n",
      "  epsilon = epsilon_R + ((epsilon_S - epsilon_R)/(1.0 + ((cmath.sqrt(-1) * lambda_R)/llambda)**(1.0 - ny))) - ((2.0 * cmath.sqrt(-1) * sigma * llambda)/light_speed)\n"
     ]
    },
    {
     "name": "stdout",
     "output_type": "stream",
     "text": [
      "Computing TBs for member  mem010\n"
     ]
    },
    {
     "name": "stderr",
     "output_type": "stream",
     "text": [
      "/home/marinadm/rtm_da/rtm_dal/rtm_amsr_fcts.py:152: RuntimeWarning: invalid value encountered in divide\n",
      "  epsilon = epsilon_R + ((epsilon_S - epsilon_R)/(1.0 + ((cmath.sqrt(-1) * lambda_R)/llambda)**(1.0 - ny))) - ((2.0 * cmath.sqrt(-1) * sigma * llambda)/light_speed)\n"
     ]
    },
    {
     "name": "stdout",
     "output_type": "stream",
     "text": [
      "Computing TBs for channel  19h\n",
      "Computing TBs for member  mem001\n"
     ]
    },
    {
     "name": "stderr",
     "output_type": "stream",
     "text": [
      "/home/marinadm/rtm_da/rtm_dal/rtm_amsr_fcts.py:152: RuntimeWarning: invalid value encountered in divide\n",
      "  epsilon = epsilon_R + ((epsilon_S - epsilon_R)/(1.0 + ((cmath.sqrt(-1) * lambda_R)/llambda)**(1.0 - ny))) - ((2.0 * cmath.sqrt(-1) * sigma * llambda)/light_speed)\n"
     ]
    },
    {
     "name": "stdout",
     "output_type": "stream",
     "text": [
      "Computing TBs for member  mem002\n"
     ]
    },
    {
     "name": "stderr",
     "output_type": "stream",
     "text": [
      "/home/marinadm/rtm_da/rtm_dal/rtm_amsr_fcts.py:152: RuntimeWarning: invalid value encountered in divide\n",
      "  epsilon = epsilon_R + ((epsilon_S - epsilon_R)/(1.0 + ((cmath.sqrt(-1) * lambda_R)/llambda)**(1.0 - ny))) - ((2.0 * cmath.sqrt(-1) * sigma * llambda)/light_speed)\n"
     ]
    },
    {
     "name": "stdout",
     "output_type": "stream",
     "text": [
      "Computing TBs for member  mem003\n"
     ]
    },
    {
     "name": "stderr",
     "output_type": "stream",
     "text": [
      "/home/marinadm/rtm_da/rtm_dal/rtm_amsr_fcts.py:152: RuntimeWarning: invalid value encountered in divide\n",
      "  epsilon = epsilon_R + ((epsilon_S - epsilon_R)/(1.0 + ((cmath.sqrt(-1) * lambda_R)/llambda)**(1.0 - ny))) - ((2.0 * cmath.sqrt(-1) * sigma * llambda)/light_speed)\n"
     ]
    },
    {
     "name": "stdout",
     "output_type": "stream",
     "text": [
      "Computing TBs for member  mem004\n"
     ]
    },
    {
     "name": "stderr",
     "output_type": "stream",
     "text": [
      "/home/marinadm/rtm_da/rtm_dal/rtm_amsr_fcts.py:152: RuntimeWarning: invalid value encountered in divide\n",
      "  epsilon = epsilon_R + ((epsilon_S - epsilon_R)/(1.0 + ((cmath.sqrt(-1) * lambda_R)/llambda)**(1.0 - ny))) - ((2.0 * cmath.sqrt(-1) * sigma * llambda)/light_speed)\n"
     ]
    },
    {
     "name": "stdout",
     "output_type": "stream",
     "text": [
      "Computing TBs for member  mem005\n"
     ]
    },
    {
     "name": "stderr",
     "output_type": "stream",
     "text": [
      "/home/marinadm/rtm_da/rtm_dal/rtm_amsr_fcts.py:152: RuntimeWarning: invalid value encountered in divide\n",
      "  epsilon = epsilon_R + ((epsilon_S - epsilon_R)/(1.0 + ((cmath.sqrt(-1) * lambda_R)/llambda)**(1.0 - ny))) - ((2.0 * cmath.sqrt(-1) * sigma * llambda)/light_speed)\n"
     ]
    },
    {
     "name": "stdout",
     "output_type": "stream",
     "text": [
      "Computing TBs for member  mem006\n"
     ]
    },
    {
     "name": "stderr",
     "output_type": "stream",
     "text": [
      "/home/marinadm/rtm_da/rtm_dal/rtm_amsr_fcts.py:152: RuntimeWarning: invalid value encountered in divide\n",
      "  epsilon = epsilon_R + ((epsilon_S - epsilon_R)/(1.0 + ((cmath.sqrt(-1) * lambda_R)/llambda)**(1.0 - ny))) - ((2.0 * cmath.sqrt(-1) * sigma * llambda)/light_speed)\n"
     ]
    },
    {
     "name": "stdout",
     "output_type": "stream",
     "text": [
      "Computing TBs for member  mem007\n"
     ]
    },
    {
     "name": "stderr",
     "output_type": "stream",
     "text": [
      "/home/marinadm/rtm_da/rtm_dal/rtm_amsr_fcts.py:152: RuntimeWarning: invalid value encountered in divide\n",
      "  epsilon = epsilon_R + ((epsilon_S - epsilon_R)/(1.0 + ((cmath.sqrt(-1) * lambda_R)/llambda)**(1.0 - ny))) - ((2.0 * cmath.sqrt(-1) * sigma * llambda)/light_speed)\n"
     ]
    },
    {
     "name": "stdout",
     "output_type": "stream",
     "text": [
      "Computing TBs for member  mem008\n"
     ]
    },
    {
     "name": "stderr",
     "output_type": "stream",
     "text": [
      "/home/marinadm/rtm_da/rtm_dal/rtm_amsr_fcts.py:152: RuntimeWarning: invalid value encountered in divide\n",
      "  epsilon = epsilon_R + ((epsilon_S - epsilon_R)/(1.0 + ((cmath.sqrt(-1) * lambda_R)/llambda)**(1.0 - ny))) - ((2.0 * cmath.sqrt(-1) * sigma * llambda)/light_speed)\n"
     ]
    },
    {
     "name": "stdout",
     "output_type": "stream",
     "text": [
      "Computing TBs for member  mem009\n"
     ]
    },
    {
     "name": "stderr",
     "output_type": "stream",
     "text": [
      "/home/marinadm/rtm_da/rtm_dal/rtm_amsr_fcts.py:152: RuntimeWarning: invalid value encountered in divide\n",
      "  epsilon = epsilon_R + ((epsilon_S - epsilon_R)/(1.0 + ((cmath.sqrt(-1) * lambda_R)/llambda)**(1.0 - ny))) - ((2.0 * cmath.sqrt(-1) * sigma * llambda)/light_speed)\n"
     ]
    },
    {
     "name": "stdout",
     "output_type": "stream",
     "text": [
      "Computing TBs for member  mem010\n"
     ]
    },
    {
     "name": "stderr",
     "output_type": "stream",
     "text": [
      "/home/marinadm/rtm_da/rtm_dal/rtm_amsr_fcts.py:152: RuntimeWarning: invalid value encountered in divide\n",
      "  epsilon = epsilon_R + ((epsilon_S - epsilon_R)/(1.0 + ((cmath.sqrt(-1) * lambda_R)/llambda)**(1.0 - ny))) - ((2.0 * cmath.sqrt(-1) * sigma * llambda)/light_speed)\n"
     ]
    },
    {
     "name": "stdout",
     "output_type": "stream",
     "text": [
      "Computing TBs for channel  37v\n",
      "Computing TBs for member  mem001\n"
     ]
    },
    {
     "name": "stderr",
     "output_type": "stream",
     "text": [
      "/home/marinadm/rtm_da/rtm_dal/rtm_amsr_fcts.py:152: RuntimeWarning: invalid value encountered in divide\n",
      "  epsilon = epsilon_R + ((epsilon_S - epsilon_R)/(1.0 + ((cmath.sqrt(-1) * lambda_R)/llambda)**(1.0 - ny))) - ((2.0 * cmath.sqrt(-1) * sigma * llambda)/light_speed)\n"
     ]
    },
    {
     "name": "stdout",
     "output_type": "stream",
     "text": [
      "Computing TBs for member  mem002\n"
     ]
    },
    {
     "name": "stderr",
     "output_type": "stream",
     "text": [
      "/home/marinadm/rtm_da/rtm_dal/rtm_amsr_fcts.py:152: RuntimeWarning: invalid value encountered in divide\n",
      "  epsilon = epsilon_R + ((epsilon_S - epsilon_R)/(1.0 + ((cmath.sqrt(-1) * lambda_R)/llambda)**(1.0 - ny))) - ((2.0 * cmath.sqrt(-1) * sigma * llambda)/light_speed)\n"
     ]
    },
    {
     "name": "stdout",
     "output_type": "stream",
     "text": [
      "Computing TBs for member  mem003\n"
     ]
    },
    {
     "name": "stderr",
     "output_type": "stream",
     "text": [
      "/home/marinadm/rtm_da/rtm_dal/rtm_amsr_fcts.py:152: RuntimeWarning: invalid value encountered in divide\n",
      "  epsilon = epsilon_R + ((epsilon_S - epsilon_R)/(1.0 + ((cmath.sqrt(-1) * lambda_R)/llambda)**(1.0 - ny))) - ((2.0 * cmath.sqrt(-1) * sigma * llambda)/light_speed)\n"
     ]
    },
    {
     "name": "stdout",
     "output_type": "stream",
     "text": [
      "Computing TBs for member  mem004\n"
     ]
    },
    {
     "name": "stderr",
     "output_type": "stream",
     "text": [
      "/home/marinadm/rtm_da/rtm_dal/rtm_amsr_fcts.py:152: RuntimeWarning: invalid value encountered in divide\n",
      "  epsilon = epsilon_R + ((epsilon_S - epsilon_R)/(1.0 + ((cmath.sqrt(-1) * lambda_R)/llambda)**(1.0 - ny))) - ((2.0 * cmath.sqrt(-1) * sigma * llambda)/light_speed)\n"
     ]
    },
    {
     "name": "stdout",
     "output_type": "stream",
     "text": [
      "Computing TBs for member  mem005\n"
     ]
    },
    {
     "name": "stderr",
     "output_type": "stream",
     "text": [
      "/home/marinadm/rtm_da/rtm_dal/rtm_amsr_fcts.py:152: RuntimeWarning: invalid value encountered in divide\n",
      "  epsilon = epsilon_R + ((epsilon_S - epsilon_R)/(1.0 + ((cmath.sqrt(-1) * lambda_R)/llambda)**(1.0 - ny))) - ((2.0 * cmath.sqrt(-1) * sigma * llambda)/light_speed)\n"
     ]
    },
    {
     "name": "stdout",
     "output_type": "stream",
     "text": [
      "Computing TBs for member  mem006\n"
     ]
    },
    {
     "name": "stderr",
     "output_type": "stream",
     "text": [
      "/home/marinadm/rtm_da/rtm_dal/rtm_amsr_fcts.py:152: RuntimeWarning: invalid value encountered in divide\n",
      "  epsilon = epsilon_R + ((epsilon_S - epsilon_R)/(1.0 + ((cmath.sqrt(-1) * lambda_R)/llambda)**(1.0 - ny))) - ((2.0 * cmath.sqrt(-1) * sigma * llambda)/light_speed)\n"
     ]
    },
    {
     "name": "stdout",
     "output_type": "stream",
     "text": [
      "Computing TBs for member  mem007\n"
     ]
    },
    {
     "name": "stderr",
     "output_type": "stream",
     "text": [
      "/home/marinadm/rtm_da/rtm_dal/rtm_amsr_fcts.py:152: RuntimeWarning: invalid value encountered in divide\n",
      "  epsilon = epsilon_R + ((epsilon_S - epsilon_R)/(1.0 + ((cmath.sqrt(-1) * lambda_R)/llambda)**(1.0 - ny))) - ((2.0 * cmath.sqrt(-1) * sigma * llambda)/light_speed)\n"
     ]
    },
    {
     "name": "stdout",
     "output_type": "stream",
     "text": [
      "Computing TBs for member  mem008\n"
     ]
    },
    {
     "name": "stderr",
     "output_type": "stream",
     "text": [
      "/home/marinadm/rtm_da/rtm_dal/rtm_amsr_fcts.py:152: RuntimeWarning: invalid value encountered in divide\n",
      "  epsilon = epsilon_R + ((epsilon_S - epsilon_R)/(1.0 + ((cmath.sqrt(-1) * lambda_R)/llambda)**(1.0 - ny))) - ((2.0 * cmath.sqrt(-1) * sigma * llambda)/light_speed)\n"
     ]
    },
    {
     "name": "stdout",
     "output_type": "stream",
     "text": [
      "Computing TBs for member  mem009\n"
     ]
    },
    {
     "name": "stderr",
     "output_type": "stream",
     "text": [
      "/home/marinadm/rtm_da/rtm_dal/rtm_amsr_fcts.py:152: RuntimeWarning: invalid value encountered in divide\n",
      "  epsilon = epsilon_R + ((epsilon_S - epsilon_R)/(1.0 + ((cmath.sqrt(-1) * lambda_R)/llambda)**(1.0 - ny))) - ((2.0 * cmath.sqrt(-1) * sigma * llambda)/light_speed)\n"
     ]
    },
    {
     "name": "stdout",
     "output_type": "stream",
     "text": [
      "Computing TBs for member  mem010\n"
     ]
    },
    {
     "name": "stderr",
     "output_type": "stream",
     "text": [
      "/home/marinadm/rtm_da/rtm_dal/rtm_amsr_fcts.py:152: RuntimeWarning: invalid value encountered in divide\n",
      "  epsilon = epsilon_R + ((epsilon_S - epsilon_R)/(1.0 + ((cmath.sqrt(-1) * lambda_R)/llambda)**(1.0 - ny))) - ((2.0 * cmath.sqrt(-1) * sigma * llambda)/light_speed)\n"
     ]
    },
    {
     "name": "stdout",
     "output_type": "stream",
     "text": [
      "Computing TBs for channel  37h\n",
      "Computing TBs for member  mem001\n"
     ]
    },
    {
     "name": "stderr",
     "output_type": "stream",
     "text": [
      "/home/marinadm/rtm_da/rtm_dal/rtm_amsr_fcts.py:152: RuntimeWarning: invalid value encountered in divide\n",
      "  epsilon = epsilon_R + ((epsilon_S - epsilon_R)/(1.0 + ((cmath.sqrt(-1) * lambda_R)/llambda)**(1.0 - ny))) - ((2.0 * cmath.sqrt(-1) * sigma * llambda)/light_speed)\n"
     ]
    },
    {
     "name": "stdout",
     "output_type": "stream",
     "text": [
      "Computing TBs for member  mem002\n"
     ]
    },
    {
     "name": "stderr",
     "output_type": "stream",
     "text": [
      "/home/marinadm/rtm_da/rtm_dal/rtm_amsr_fcts.py:152: RuntimeWarning: invalid value encountered in divide\n",
      "  epsilon = epsilon_R + ((epsilon_S - epsilon_R)/(1.0 + ((cmath.sqrt(-1) * lambda_R)/llambda)**(1.0 - ny))) - ((2.0 * cmath.sqrt(-1) * sigma * llambda)/light_speed)\n"
     ]
    },
    {
     "name": "stdout",
     "output_type": "stream",
     "text": [
      "Computing TBs for member  mem003\n"
     ]
    },
    {
     "name": "stderr",
     "output_type": "stream",
     "text": [
      "/home/marinadm/rtm_da/rtm_dal/rtm_amsr_fcts.py:152: RuntimeWarning: invalid value encountered in divide\n",
      "  epsilon = epsilon_R + ((epsilon_S - epsilon_R)/(1.0 + ((cmath.sqrt(-1) * lambda_R)/llambda)**(1.0 - ny))) - ((2.0 * cmath.sqrt(-1) * sigma * llambda)/light_speed)\n"
     ]
    },
    {
     "name": "stdout",
     "output_type": "stream",
     "text": [
      "Computing TBs for member  mem004\n"
     ]
    },
    {
     "name": "stderr",
     "output_type": "stream",
     "text": [
      "/home/marinadm/rtm_da/rtm_dal/rtm_amsr_fcts.py:152: RuntimeWarning: invalid value encountered in divide\n",
      "  epsilon = epsilon_R + ((epsilon_S - epsilon_R)/(1.0 + ((cmath.sqrt(-1) * lambda_R)/llambda)**(1.0 - ny))) - ((2.0 * cmath.sqrt(-1) * sigma * llambda)/light_speed)\n"
     ]
    },
    {
     "name": "stdout",
     "output_type": "stream",
     "text": [
      "Computing TBs for member  mem005\n"
     ]
    },
    {
     "name": "stderr",
     "output_type": "stream",
     "text": [
      "/home/marinadm/rtm_da/rtm_dal/rtm_amsr_fcts.py:152: RuntimeWarning: invalid value encountered in divide\n",
      "  epsilon = epsilon_R + ((epsilon_S - epsilon_R)/(1.0 + ((cmath.sqrt(-1) * lambda_R)/llambda)**(1.0 - ny))) - ((2.0 * cmath.sqrt(-1) * sigma * llambda)/light_speed)\n"
     ]
    },
    {
     "name": "stdout",
     "output_type": "stream",
     "text": [
      "Computing TBs for member  mem006\n"
     ]
    },
    {
     "name": "stderr",
     "output_type": "stream",
     "text": [
      "/home/marinadm/rtm_da/rtm_dal/rtm_amsr_fcts.py:152: RuntimeWarning: invalid value encountered in divide\n",
      "  epsilon = epsilon_R + ((epsilon_S - epsilon_R)/(1.0 + ((cmath.sqrt(-1) * lambda_R)/llambda)**(1.0 - ny))) - ((2.0 * cmath.sqrt(-1) * sigma * llambda)/light_speed)\n"
     ]
    },
    {
     "name": "stdout",
     "output_type": "stream",
     "text": [
      "Computing TBs for member  mem007\n"
     ]
    },
    {
     "name": "stderr",
     "output_type": "stream",
     "text": [
      "/home/marinadm/rtm_da/rtm_dal/rtm_amsr_fcts.py:152: RuntimeWarning: invalid value encountered in divide\n",
      "  epsilon = epsilon_R + ((epsilon_S - epsilon_R)/(1.0 + ((cmath.sqrt(-1) * lambda_R)/llambda)**(1.0 - ny))) - ((2.0 * cmath.sqrt(-1) * sigma * llambda)/light_speed)\n"
     ]
    },
    {
     "name": "stdout",
     "output_type": "stream",
     "text": [
      "Computing TBs for member  mem008\n"
     ]
    },
    {
     "name": "stderr",
     "output_type": "stream",
     "text": [
      "/home/marinadm/rtm_da/rtm_dal/rtm_amsr_fcts.py:152: RuntimeWarning: invalid value encountered in divide\n",
      "  epsilon = epsilon_R + ((epsilon_S - epsilon_R)/(1.0 + ((cmath.sqrt(-1) * lambda_R)/llambda)**(1.0 - ny))) - ((2.0 * cmath.sqrt(-1) * sigma * llambda)/light_speed)\n"
     ]
    },
    {
     "name": "stdout",
     "output_type": "stream",
     "text": [
      "Computing TBs for member  mem009\n"
     ]
    },
    {
     "name": "stderr",
     "output_type": "stream",
     "text": [
      "/home/marinadm/rtm_da/rtm_dal/rtm_amsr_fcts.py:152: RuntimeWarning: invalid value encountered in divide\n",
      "  epsilon = epsilon_R + ((epsilon_S - epsilon_R)/(1.0 + ((cmath.sqrt(-1) * lambda_R)/llambda)**(1.0 - ny))) - ((2.0 * cmath.sqrt(-1) * sigma * llambda)/light_speed)\n"
     ]
    },
    {
     "name": "stdout",
     "output_type": "stream",
     "text": [
      "Computing TBs for member  mem010\n"
     ]
    },
    {
     "name": "stderr",
     "output_type": "stream",
     "text": [
      "/home/marinadm/rtm_da/rtm_dal/rtm_amsr_fcts.py:152: RuntimeWarning: invalid value encountered in divide\n",
      "  epsilon = epsilon_R + ((epsilon_S - epsilon_R)/(1.0 + ((cmath.sqrt(-1) * lambda_R)/llambda)**(1.0 - ny))) - ((2.0 * cmath.sqrt(-1) * sigma * llambda)/light_speed)\n"
     ]
    }
   ],
   "source": [
    "res = run_rtm(version = 1)"
   ]
  },
  {
   "cell_type": "markdown",
   "id": "459feee2-14ed-42c7-8fa8-d08a21ce8c9d",
   "metadata": {},
   "source": [
    "### Create directory where RTM TBs will be saved"
   ]
  },
  {
   "cell_type": "code",
   "execution_count": 11,
   "id": "4bb384e4-9bfe-476e-9ef4-5cb5d03f1970",
   "metadata": {},
   "outputs": [
    {
     "name": "stdout",
     "output_type": "stream",
     "text": [
      "mkdir -p /lustre/storeB/project/fou/fd/project/acciberg/marina/topaz_tbs/20240118/tbs_10fdays/20240118\n",
      "mkdir -p /lustre/storeB/project/fou/fd/project/acciberg/marina/topaz_tbs/20240118/tbs_10fdays/20240118/tbs_10fdays/\n"
     ]
    },
    {
     "data": {
      "text/plain": [
       "0"
      ]
     },
     "execution_count": 11,
     "metadata": {},
     "output_type": "execute_result"
    }
   ],
   "source": [
    "cmd('mkdir -p ' + f\"{rtm_tbs_dir}{date}\")\n",
    "cmd('mkdir -p ' + f\"{rtm_tbs_dir}{date}/tbs_{fdays}fdays/\")"
   ]
  },
  {
   "cell_type": "markdown",
   "id": "3994a4ac-fd53-436b-bf84-75502044ac76",
   "metadata": {},
   "source": [
    "### Create netCDF files containing RTM TBs and saved them in the previously defined directory"
   ]
  },
  {
   "cell_type": "code",
   "execution_count": 13,
   "id": "90d84321-7e6a-494e-8ff7-7cb7224eb453",
   "metadata": {},
   "outputs": [],
   "source": [
    "save_rtm_tbs(res[0], f\"{rtm_tbs_dir}{date}/tbs_{fdays}fdays/\")"
   ]
  },
  {
   "cell_type": "code",
   "execution_count": null,
   "id": "4eb0971e-0d83-448c-ad49-f513e964b10b",
   "metadata": {},
   "outputs": [],
   "source": []
  }
 ],
 "metadata": {
  "kernelspec": {
   "display_name": "Python 3 (ipykernel)",
   "language": "python",
   "name": "python3"
  },
  "language_info": {
   "codemirror_mode": {
    "name": "ipython",
    "version": 3
   },
   "file_extension": ".py",
   "mimetype": "text/x-python",
   "name": "python",
   "nbconvert_exporter": "python",
   "pygments_lexer": "ipython3",
   "version": "3.9.13"
  }
 },
 "nbformat": 4,
 "nbformat_minor": 5
}
