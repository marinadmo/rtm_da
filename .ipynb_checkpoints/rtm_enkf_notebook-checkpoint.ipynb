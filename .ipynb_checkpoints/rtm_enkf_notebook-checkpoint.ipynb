{
 "cells": [
  {
   "cell_type": "markdown",
   "id": "257cda66-0e1e-4e0b-adba-2726a34655b9",
   "metadata": {},
   "source": [
    "# Assimilation of TBs to correct TOPAZ5 forecasts\n",
    "## Standalone analysis using the EnKF-C software and TOPAZ5 outputs\n",
    "## Four data assimilation experiments are defined (to be performed in this order):\n",
    "- exp_sic: synchronous assimilation of AMSR2 SIC\n",
    "- exp_tb: synchronous assimilation of AMSR2 Tbs\n",
    "- exp_sic_asyn: asynchronous assimilation of AMSR2 SIC\n",
    "- exp_tb_asyn: asynchronous assimilation of AMSR2 Tbs\n",
    "\n",
    "## This notebook is composed of several steps\n",
    "- Step 1: Computation of DAL and 2D-plane coefficients\n",
    "- Step 2: RTM Tbs simulation\n",
    "- Step 3: Preparation of background ensemble, observations and mask for EnKF\n",
    "- Step 4: Run EnKF\n",
    "- Step 5: Plotting"
   ]
  },
  {
   "cell_type": "code",
   "execution_count": 1,
   "id": "d0b2d7a9-7b30-40bd-8749-5d8a2ea2c947",
   "metadata": {},
   "outputs": [],
   "source": [
    "import importlib\n",
    "from steps_da.main_imports import cmd"
   ]
  },
  {
   "cell_type": "code",
   "execution_count": 2,
   "id": "0bd42342-c102-4eb9-9fe5-93e87e37c591",
   "metadata": {},
   "outputs": [
    {
     "name": "stdout",
     "output_type": "stream",
     "text": [
      "cp config_2021.py config.py\n"
     ]
    },
    {
     "data": {
      "text/plain": [
       "<module 'config' from '/home/marinadm/rtm_da/config.py'>"
      ]
     },
     "execution_count": 2,
     "metadata": {},
     "output_type": "execute_result"
    }
   ],
   "source": [
    "config_filename = 'config_2021.py'\n",
    "cmd(f'cp {config_filename} config.py')\n",
    "import config; importlib.reload(config)"
   ]
  },
  {
   "cell_type": "code",
   "execution_count": 3,
   "id": "8f4c8770-9dc4-47bf-917c-078c7240adc0",
   "metadata": {},
   "outputs": [
    {
     "name": "stdout",
     "output_type": "stream",
     "text": [
      "rm /lustre/storeB/project/fou/fd/project/acciberg/marina/enkf_exps/conf/mask_topaz5.nc\n",
      "ln -s /lustre/storeB/project/fou/fd/project/acciberg/marina/enkf_exps/conf/2021/topaz5_grid_2021.nc  /lustre/storeB/project/fou/fd/project/acciberg/marina/enkf_exps/conf/mask_topaz5.nc\n"
     ]
    },
    {
     "data": {
      "text/plain": [
       "0"
      ]
     },
     "execution_count": 3,
     "metadata": {},
     "output_type": "execute_result"
    }
   ],
   "source": [
    "cmd(f'rm {config.exps_dir}/conf/mask_topaz5.nc')\n",
    "cmd(f'ln -s {config.exps_dir}/conf/{config.date[0:4]}/topaz5_grid_{config.date[0:4]}.nc  {config.exps_dir}/conf/mask_topaz5.nc')"
   ]
  },
  {
   "cell_type": "code",
   "execution_count": 4,
   "id": "2224ef7d-2452-4292-8a72-8fe9368e82bf",
   "metadata": {},
   "outputs": [
    {
     "name": "stdout",
     "output_type": "stream",
     "text": [
      "DA experiment:  exp_tb_asyn\n"
     ]
    }
   ],
   "source": [
    "print(\"DA experiment: \", config.assim)"
   ]
  },
  {
   "cell_type": "markdown",
   "id": "f69901e6-664e-45aa-85a2-bfe12ef47b49",
   "metadata": {},
   "source": [
    "## Define the steps to perform"
   ]
  },
  {
   "cell_type": "code",
   "execution_count": 5,
   "id": "1fecc2c3-69fd-4335-b6c4-c3f224969382",
   "metadata": {},
   "outputs": [],
   "source": [
    "run_all_steps = True \n",
    "if run_all_steps: compute_coeffs = run_rtm = prepare_enkf = run_enkf = make_plots = True\n",
    "else :\n",
    "    compute_coeffs = False \n",
    "    run_rtm = False \n",
    "    prepare_enkf = False\n",
    "    run_enkf = True \n",
    "    make_plots = True "
   ]
  },
  {
   "cell_type": "markdown",
   "id": "34547472-63a7-4882-b11f-31657b8853d1",
   "metadata": {},
   "source": [
    "## Step 1: Computation of DAL and 2D-plane coefficients"
   ]
  },
  {
   "cell_type": "code",
   "execution_count": 6,
   "id": "2e12e9be-744d-4df2-bf55-3813ba1329b7",
   "metadata": {},
   "outputs": [
    {
     "name": "stdout",
     "output_type": "stream",
     "text": [
      "Computation of DAL (Distance Along the Line) from TPD and TPA files\n",
      "\n",
      "Computation of 2D-plane coefficients. This 2D-plane is defined by the relation between Emissivity, DAL and T2M\n"
     ]
    }
   ],
   "source": [
    "if compute_coeffs :\n",
    "    \n",
    "    from rtm_dal.main_fcts_rtm_tbs import *\n",
    "\n",
    "    print('Computation of DAL (Distance Along the Line) from TPD and TPA files...')\n",
    "    dal_norm, _, list_tpd_files = compute_dal() \n",
    "\n",
    "    print('\\nComputation of 2D-plane coefficients. This 2D-plane is defined by the relation between Emissivity, DAL and T2M...')\n",
    "    compute_coeffs(dal_norm, list_tpd_files)  \n",
    "    \n",
    "    print('...computation finished.')"
   ]
  },
  {
   "cell_type": "markdown",
   "id": "86937b9d-6cf2-4ae7-8d40-c9ba320f1bf3",
   "metadata": {},
   "source": [
    "## Step 2: RTM TBs simulation"
   ]
  },
  {
   "cell_type": "code",
   "execution_count": null,
   "id": "057761d4-7fbd-4018-88dc-2b987942f2a5",
   "metadata": {},
   "outputs": [
    {
     "name": "stdout",
     "output_type": "stream",
     "text": [
      "\n",
      "Computation of RTM Tbs (swaths)...\n",
      "Computing Tbs for member m001, channel 19v...\n",
      "Computing Tbs for member m002, channel 19v...\n",
      "Computing Tbs for member m003, channel 19v...\n",
      "Computing Tbs for member m004, channel 19v...\n",
      "Computing Tbs for member m005, channel 19v...\n",
      "Computing Tbs for member m006, channel 19v...\n",
      "Computing Tbs for member m007, channel 19v...\n",
      "Computing Tbs for member m008, channel 19v...\n",
      "Computing Tbs for member m009, channel 19v...\n",
      "Computing Tbs for member m010, channel 19v...\n",
      "Computing Tbs for member m001, channel 19h...\n",
      "Computing Tbs for member m002, channel 19h...\n",
      "Computing Tbs for member m003, channel 19h...\n",
      "Computing Tbs for member m004, channel 19h...\n",
      "Computing Tbs for member m005, channel 19h...\n",
      "Computing Tbs for member m006, channel 19h...\n",
      "Computing Tbs for member m007, channel 19h...\n",
      "Computing Tbs for member m008, channel 19h...\n",
      "Computing Tbs for member m009, channel 19h...\n",
      "Computing Tbs for member m010, channel 19h...\n",
      "Computing Tbs for member m001, channel 37v...\n",
      "Computing Tbs for member m002, channel 37v...\n",
      "Computing Tbs for member m003, channel 37v...\n",
      "Computing Tbs for member m004, channel 37v...\n",
      "Computing Tbs for member m005, channel 37v...\n",
      "Computing Tbs for member m006, channel 37v...\n",
      "Computing Tbs for member m007, channel 37v...\n",
      "Computing Tbs for member m008, channel 37v...\n",
      "Computing Tbs for member m009, channel 37v...\n",
      "Computing Tbs for member m010, channel 37v...\n",
      "Computing Tbs for member m001, channel 37h...\n",
      "Computing Tbs for member m002, channel 37h...\n",
      "Computing Tbs for member m003, channel 37h...\n",
      "Computing Tbs for member m004, channel 37h...\n",
      "Computing Tbs for member m005, channel 37h...\n",
      "Computing Tbs for member m006, channel 37h...\n",
      "Computing Tbs for member m007, channel 37h...\n",
      "Computing Tbs for member m008, channel 37h...\n",
      "Computing Tbs for member m009, channel 37h...\n",
      "Computing Tbs for member m010, channel 37h...\n",
      "\n",
      "Create directory where RTM Tbs will be saved\n",
      "mkdir -p /lustre/storeB/project/fou/fd/project/acciberg/marina/topaz_tbs/20211201/\n",
      "mkdir -p /lustre/storeB/project/fou/fd/project/acciberg/marina/topaz_tbs/20211201//passes/\n",
      "\n",
      "Create netCDF files containing RTM Tbs and saved them in the previously defined directory\n",
      "Saving tb19v for member m001...\n",
      "Saving tb19h for member m001...\n",
      "Saving tb37v for member m001...\n",
      "Saving tb37h for member m001...\n",
      "Saving tb19v for member m002...\n",
      "Saving tb19h for member m002...\n",
      "Saving tb37v for member m002...\n",
      "Saving tb37h for member m002...\n",
      "Saving tb19v for member m003...\n",
      "Saving tb19h for member m003...\n",
      "Saving tb37v for member m003...\n",
      "Saving tb37h for member m003...\n",
      "Saving tb19v for member m004...\n",
      "Saving tb19h for member m004...\n",
      "Saving tb37v for member m004...\n",
      "Saving tb37h for member m004...\n",
      "Saving tb19v for member m005...\n",
      "Saving tb19h for member m005...\n",
      "Saving tb37v for member m005...\n"
     ]
    }
   ],
   "source": [
    "if run_rtm :\n",
    "    \n",
    "    from rtm_dal.main_fcts_rtm_tbs import *\n",
    "    \n",
    "    if 'exp_tb_asyn' in config.assim :\n",
    "        \n",
    "        print('\\nComputation of RTM Tbs (swaths)...')\n",
    "        import warnings\n",
    "        warnings.filterwarnings(\"ignore\") # Ignore warning related to division in eq35\n",
    "        res = run_rtm_swaths(version = 1)\n",
    "        warnings.resetwarnings()        \n",
    "\n",
    "        print('\\nCreate directory where RTM Tbs will be saved')\n",
    "        cmd('mkdir -p ' + f\"{config.rtm_tbs_dir}\"); cmd('mkdir -p ' + f\"{config.rtm_tbs_dir}/passes/\")\n",
    "\n",
    "        print('\\nCreate netCDF files containing RTM Tbs and saved them in the previously defined directory')\n",
    "        save_rtm_tbs(res[0], f\"{config.rtm_tbs_dir}/passes/\", swaths = True)\n",
    "        \n",
    "    elif 'exp_sic' in config.assim :\n",
    "        \n",
    "        print('\\nComputation of RTM Tbs (daily means)')\n",
    "        import warnings\n",
    "        warnings.filterwarnings(\"ignore\") # Ignore warning related to division in eq35\n",
    "        res = run_rtm(version = 1) \n",
    "        warnings.resetwarnings()        \n",
    "\n",
    "        print('\\nCreate directory where RTM Tbs will be saved')\n",
    "        cmd('mkdir -p ' + f\"{config.rtm_tbs_dir}\"); cmd('mkdir -p ' + f\"{config.rtm_tbs_dir}/means/\")\n",
    "\n",
    "        print('\\nCreate netCDF files containing RTM Tbs and saved them in the previously defined directory')\n",
    "        save_rtm_tbs(res[0], f\"{config.rtm_tbs_dir}/means/\")\n",
    "    \n",
    "    print('...RTM simulation finished.')"
   ]
  },
  {
   "cell_type": "markdown",
   "id": "6688fac2-fcb4-40e8-81f5-de6b107b6826",
   "metadata": {},
   "source": [
    "## Step 3: Preparation of background ensemble, observations and mask for EnKF"
   ]
  },
  {
   "cell_type": "code",
   "execution_count": null,
   "id": "c04e1e70-b84d-4d83-90b7-2c2dc317d44e",
   "metadata": {},
   "outputs": [],
   "source": [
    "if prepare_enkf :\n",
    "    \n",
    "    print('Preparation of background ensemble, observations and mask for EnKF-C')\n",
    "    cmd('mkdir -p ' + config.storage_dir)\n",
    "    cmd('mkdir -p ' + config.storage_dir + 'ensb');\n",
    "    cmd('rm ' + config.storage_dir + 'ensb/*nc')\n",
    "\n",
    "    if config.assim == 'exp_sic' :\n",
    "        \n",
    "        from steps_da import prepare_ens; importlib.reload(prepare_ens); prep_ens = prepare_ens.prep_ensemble        \n",
    "        from steps_da import prepare_obs; importlib.reload(prepare_obs); prep_topaz = prepare_obs.prep_topaz        \n",
    "        from steps_da import model_mask; importlib.reload(model_mask); prep_mask = model_mask.generate_mask\n",
    "        \n",
    "        print('Ensemble preparation...'); prep_ens()        \n",
    "        print('Prepare observations (means)...'); prep_topaz()        \n",
    "        print('Generation of TOPAZ mask...'); prep_mask() \n",
    "\n",
    "    elif config.assim == 'exp_tb' :      \n",
    "        \n",
    "        storage_dir_tbs = f\"{config.exps_dir}/exps_2021/exp_sic/{config.date}/\"\n",
    "        cmd('ln -s ' + storage_dir_tbs + 'ensb/* ' + config.storage_dir + 'ensb/') # Link to background ensemble\n",
    "        \n",
    "    elif config.assim == 'exp_sic_asyn' :\n",
    "        \n",
    "        storage_dir_asyn = f\"{config.exps_dir}/exps_2021/exp_sic/{config.date}/\"\n",
    "        cmd('ln -s ' + storage_dir_asyn + 'ensb/* ' + config.storage_dir + 'ensb/') # Link to background ensemble\n",
    "        \n",
    "        from steps_da import prepare_ens; importlib.reload(prepare_ens); prep_ens = prepare_ens.prep_ensemble_asyn\n",
    "        from steps_da import prepare_obs; importlib.reload(prepare_obs); prep_topaz = prepare_obs.prep_topaz_passes\n",
    "        from steps_da import change_date; importlib.reload(change_date); update = change_date.update_enkf_prm\n",
    "        \n",
    "        print('Ensemble preparation for ASYN experiment...'); prep_ens()        \n",
    "        print('Prepare observations (passes)...'); prep_topaz()\n",
    "        print('Update the EnKF date...'); update()\n",
    "        \n",
    "    elif config.assim == 'exp_tb_asyn' : \n",
    "        \n",
    "        storage_dir_asyn = f\"{config.exps_dir}/exps_2021/exp_sic/{config.date}/\"\n",
    "        cmd('ln -s ' + storage_dir_asyn + 'ensb/* ' + config.storage_dir + 'ensb/') # Link to background ensemble\n",
    "        \n",
    "        from steps_da import prepare_ens; importlib.reload(prepare_ens); prep_ens = prepare_ens.prep_ensemble_asyn\n",
    "        \n",
    "        print('Ensemble preparation for ASYN experiment...'); prep_ens()   \n",
    "\n",
    "    print('...preparation of model and observation data finished.')"
   ]
  },
  {
   "cell_type": "markdown",
   "id": "970eae41-d3b4-41da-a90d-80e9f756f256",
   "metadata": {},
   "source": [
    "## Step 4: Run EnKF"
   ]
  },
  {
   "cell_type": "code",
   "execution_count": null,
   "id": "7a4b7e99-1c3b-4f77-a0bb-55065aec8c1c",
   "metadata": {},
   "outputs": [],
   "source": [
    "if run_enkf :\n",
    "    \n",
    "    cmd('module use /modules/MET/rhel8/user-modules/')\n",
    "    cmd('module load enkfc/2.9.9') \n",
    "\n",
    "    print('Running EnKF-C...')\n",
    "    from steps_da.run_da import run_enkf\n",
    "    run_enkf()\n",
    "    \n",
    "    print('...run finished.')"
   ]
  },
  {
   "cell_type": "markdown",
   "id": "a15a242c-6d04-47d9-b931-4aaea07bea46",
   "metadata": {},
   "source": [
    "## Step 5: Plotting"
   ]
  },
  {
   "cell_type": "code",
   "execution_count": null,
   "id": "63cc804f-14e6-4817-95d4-ca7e780eff06",
   "metadata": {},
   "outputs": [],
   "source": [
    "'''\n",
    " vari = 0 is aice\n",
    " vari = 1 is hi\n",
    " vari = 8 is iage\n",
    "'''\n",
    "\n",
    "vari = 0\n",
    "metrics = True\n",
    "\n",
    "if make_plots :\n",
    "    \n",
    "    print(f'Making figures for variable {config.varnames[vari]}...')\n",
    "    from steps_da.plotting import *\n",
    "    from steps_da import plotting\n",
    "    importlib.reload(plotting)\n",
    "    plot_metrics = plotting.plot_metrics\n",
    "    \n",
    "    if config.assim == 'exp_sic' :\n",
    "        if vari == 0 :\n",
    "            background_maps()\n",
    "            background_maps(var = 'tb', var_tb = 0)\n",
    "            analysis_maps(vari)\n",
    "        elif vari > 0 : no_obs_maps(vari)\n",
    "\n",
    "    else :\n",
    "        if vari == 0 :\n",
    "            analysis_maps(vari)\n",
    "        elif vari > 0 : no_obs_maps(vari)\n",
    "        \n",
    "    if metrics : \n",
    "        \n",
    "        print('\\nPlotting EnKF metrics (DFS and SRF)...')\n",
    "        plot_metrics()\n",
    "        \n",
    "    print('...plotting finished.')"
   ]
  }
 ],
 "metadata": {
  "kernelspec": {
   "display_name": "Python 3 (ipykernel)",
   "language": "python",
   "name": "python3"
  },
  "language_info": {
   "codemirror_mode": {
    "name": "ipython",
    "version": 3
   },
   "file_extension": ".py",
   "mimetype": "text/x-python",
   "name": "python",
   "nbconvert_exporter": "python",
   "pygments_lexer": "ipython3",
   "version": "3.9.13"
  }
 },
 "nbformat": 4,
 "nbformat_minor": 5
}
