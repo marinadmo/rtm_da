{
 "cells": [
  {
   "cell_type": "markdown",
   "id": "257cda66-0e1e-4e0b-adba-2726a34655b9",
   "metadata": {},
   "source": [
    "# This notebook produces RTM TBs from TOPAZ5 SIC, AMSR2 and ERA5 data using the RTM software"
   ]
  },
  {
   "cell_type": "markdown",
   "id": "2d1899d7-7ee8-462c-9907-fc2828968c15",
   "metadata": {},
   "source": [
    "### Import python code which contains all the needed functions to produce the RTM TBs"
   ]
  },
  {
   "cell_type": "code",
   "execution_count": 1,
   "id": "f97c8afa-6192-4d4b-886a-7537dcd158df",
   "metadata": {},
   "outputs": [],
   "source": [
    "import sys\n",
    "sys.path.insert(0, './rtm_dal/')\n",
    "from main_fcts_rtm_tbs import *"
   ]
  },
  {
   "cell_type": "code",
   "execution_count": 2,
   "id": "856d3aff-5d6c-40e9-ac4f-9c4d43ce00dd",
   "metadata": {},
   "outputs": [],
   "source": [
    "from subprocess import call\n",
    "# Function for running in terminal\n",
    "def cmd(command):\n",
    "    print(command)\n",
    "    result = call(command, shell = True)\n",
    "    if result != 0:\n",
    "        print(\"Command failed: %d\" % result)\n",
    "    else:\n",
    "        return result"
   ]
  },
  {
   "cell_type": "markdown",
   "id": "ed78537f-e586-453d-a515-31a2053df59e",
   "metadata": {},
   "source": [
    "### Define date for analysis, the forecast days of the model output (background state), and all the paths and file names needed"
   ]
  },
  {
   "cell_type": "code",
   "execution_count": 3,
   "id": "da6dcb20-ab46-40c8-bd74-6c08626d5c30",
   "metadata": {},
   "outputs": [],
   "source": [
    "# Define date\n",
    "date = '20240118' # This date corresponds to the model forecast date that we will correct through DA\n",
    "fdays = 10 # fdays forecast to be corrected"
   ]
  },
  {
   "cell_type": "code",
   "execution_count": 4,
   "id": "360f5a1f-deff-439b-b0b5-b87c4218bdc6",
   "metadata": {},
   "outputs": [],
   "source": [
    "# Paths\n",
    "main_dir = '/lustre/storeB/project/fou/fd/project/acciberg/' # working directory\n",
    "tpd_dir = main_dir + 'marina/tpd_files/' # TPD files directory\n",
    "json_dir = '/lustre/storeB/project/fou/fd/project/osisaf/osisaf-archive-data-oper/ice/conc/dm1-v3p0/tpa/' # TPA files directory\n",
    "topaz5_dir = '/lustre/storeB/project/copernicus/acciberg/metnotopaz5_ens/' # TOPAZ model data directory\n",
    "sat_dir = '/lustre/storeB/project/fou/fd/project/acciberg/atlems/topaz_l3/' # AMSR2 and ERA5 data projected in the TOPAZ grid directory\n",
    "rtm_tbs_dir = main_dir + 'marina/topaz_tbs/' # RTM TBs directory\n",
    "# File names\n",
    "coeffs_filename_date = './coefficient_files/coefficients_' + date + '.csv' # file name that will contain 2D-plane coefficients"
   ]
  },
  {
   "cell_type": "markdown",
   "id": "980ce299-4bcc-4f31-826b-877ffbe87f67",
   "metadata": {},
   "source": [
    "### Computation of DAL (Distance Along the Line) from TPD and TPA files"
   ]
  },
  {
   "cell_type": "code",
   "execution_count": 5,
   "id": "d8de7a6f-fd44-417a-9c8b-fcad80253e0d",
   "metadata": {},
   "outputs": [
    {
     "name": "stdout",
     "output_type": "stream",
     "text": [
      "TPA file:  /lustre/storeB/project/fou/fd/project/osisaf/osisaf-archive-data-oper/ice/conc/dm1-v3p0/tpa/2024/01/\n",
      "TPD file:  /lustre/storeB/project/fou/fd/project/acciberg/marina/tpd_files/dyn_tp_nh_amsr_gw1_ucorr_20240112_oneday.nc\n",
      "TPA file:  /lustre/storeB/project/fou/fd/project/osisaf/osisaf-archive-data-oper/ice/conc/dm1-v3p0/tpa/2024/01/\n",
      "TPD file:  /lustre/storeB/project/fou/fd/project/acciberg/marina/tpd_files/dyn_tp_nh_amsr_gw1_ucorr_20240113_oneday.nc\n",
      "TPA file:  /lustre/storeB/project/fou/fd/project/osisaf/osisaf-archive-data-oper/ice/conc/dm1-v3p0/tpa/2024/01/\n",
      "TPD file:  /lustre/storeB/project/fou/fd/project/acciberg/marina/tpd_files/dyn_tp_nh_amsr_gw1_ucorr_20240114_oneday.nc\n",
      "TPA file:  /lustre/storeB/project/fou/fd/project/osisaf/osisaf-archive-data-oper/ice/conc/dm1-v3p0/tpa/2024/01/\n",
      "TPD file:  /lustre/storeB/project/fou/fd/project/acciberg/marina/tpd_files/dyn_tp_nh_amsr_gw1_ucorr_20240115_oneday.nc\n",
      "TPA file:  /lustre/storeB/project/fou/fd/project/osisaf/osisaf-archive-data-oper/ice/conc/dm1-v3p0/tpa/2024/01/\n",
      "TPD file:  /lustre/storeB/project/fou/fd/project/acciberg/marina/tpd_files/dyn_tp_nh_amsr_gw1_ucorr_20240116_oneday.nc\n",
      "TPA file:  /lustre/storeB/project/fou/fd/project/osisaf/osisaf-archive-data-oper/ice/conc/dm1-v3p0/tpa/2024/01/\n",
      "TPD file:  /lustre/storeB/project/fou/fd/project/acciberg/marina/tpd_files/dyn_tp_nh_amsr_gw1_ucorr_20240117_oneday.nc\n",
      "TPA file:  /lustre/storeB/project/fou/fd/project/osisaf/osisaf-archive-data-oper/ice/conc/dm1-v3p0/tpa/2024/01/\n",
      "TPD file:  /lustre/storeB/project/fou/fd/project/acciberg/marina/tpd_files/dyn_tp_nh_amsr_gw1_ucorr_20240118_oneday.nc\n"
     ]
    }
   ],
   "source": [
    "dal_norm, _, list_tpd_files = compute_dal(date, tpd_dir, json_dir)"
   ]
  },
  {
   "cell_type": "markdown",
   "id": "f848ae00-d6e1-4749-8c46-ec608997c1a6",
   "metadata": {},
   "source": [
    "### Computation of 2D-plane coefficients. This 2D-plane is defined by the relation between Emissivity, DAL and T2M"
   ]
  },
  {
   "cell_type": "code",
   "execution_count": 6,
   "id": "b1dbeab2-27bf-44aa-b63e-bf8e6006a77f",
   "metadata": {},
   "outputs": [
    {
     "name": "stdout",
     "output_type": "stream",
     "text": [
      "Channel : tb19v\n",
      "coefficients of equation of plane, (a1, a2):  [-0.00334133  0.00102682]\n",
      "value of intercept, c: 1.8677051457399858\n",
      "Channel : tb19h\n",
      "coefficients of equation of plane, (a1, a2):  [-0.00334299  0.00138162]\n",
      "value of intercept, c: 1.7951181529686668\n",
      "Channel : tb37v\n",
      "coefficients of equation of plane, (a1, a2):  [-0.00406972  0.00307393]\n",
      "value of intercept, c: 2.0531550933114007\n",
      "Channel : tb37h\n",
      "coefficients of equation of plane, (a1, a2):  [-0.00396601  0.00310142]\n",
      "value of intercept, c: 1.9618210892698338\n"
     ]
    }
   ],
   "source": [
    "compute_coeffs(date, dal_norm, list_tpd_files, coeffs_filename_date)"
   ]
  },
  {
   "cell_type": "markdown",
   "id": "365652fd-f25f-4be8-b1df-951e9b81e019",
   "metadata": {},
   "source": [
    "### Computation of RTM TBs"
   ]
  },
  {
   "cell_type": "code",
   "execution_count": 7,
   "id": "edf8eeda-57a2-4fb4-b247-cec202517eac",
   "metadata": {},
   "outputs": [
    {
     "name": "stdout",
     "output_type": "stream",
     "text": [
      "10 20240109\n",
      "Computing TBs for channel  19v\n",
      "Computing TBs for member  mem001\n"
     ]
    },
    {
     "name": "stderr",
     "output_type": "stream",
     "text": [
      "/home/marinadm/rtm_da/./rtm_dal/rtm_amsr_fcts.py:152: RuntimeWarning: invalid value encountered in divide\n",
      "  epsilon = epsilon_R + ((epsilon_S - epsilon_R)/(1.0 + ((cmath.sqrt(-1) * lambda_R)/llambda)**(1.0 - ny))) - ((2.0 * cmath.sqrt(-1) * sigma * llambda)/light_speed)\n"
     ]
    },
    {
     "name": "stdout",
     "output_type": "stream",
     "text": [
      "Computing TBs for member  mem002\n"
     ]
    },
    {
     "name": "stderr",
     "output_type": "stream",
     "text": [
      "/home/marinadm/rtm_da/./rtm_dal/rtm_amsr_fcts.py:152: RuntimeWarning: invalid value encountered in divide\n",
      "  epsilon = epsilon_R + ((epsilon_S - epsilon_R)/(1.0 + ((cmath.sqrt(-1) * lambda_R)/llambda)**(1.0 - ny))) - ((2.0 * cmath.sqrt(-1) * sigma * llambda)/light_speed)\n"
     ]
    },
    {
     "name": "stdout",
     "output_type": "stream",
     "text": [
      "Computing TBs for member  mem003\n"
     ]
    },
    {
     "name": "stderr",
     "output_type": "stream",
     "text": [
      "/home/marinadm/rtm_da/./rtm_dal/rtm_amsr_fcts.py:152: RuntimeWarning: invalid value encountered in divide\n",
      "  epsilon = epsilon_R + ((epsilon_S - epsilon_R)/(1.0 + ((cmath.sqrt(-1) * lambda_R)/llambda)**(1.0 - ny))) - ((2.0 * cmath.sqrt(-1) * sigma * llambda)/light_speed)\n"
     ]
    },
    {
     "name": "stdout",
     "output_type": "stream",
     "text": [
      "Computing TBs for member  mem004\n"
     ]
    },
    {
     "name": "stderr",
     "output_type": "stream",
     "text": [
      "/home/marinadm/rtm_da/./rtm_dal/rtm_amsr_fcts.py:152: RuntimeWarning: invalid value encountered in divide\n",
      "  epsilon = epsilon_R + ((epsilon_S - epsilon_R)/(1.0 + ((cmath.sqrt(-1) * lambda_R)/llambda)**(1.0 - ny))) - ((2.0 * cmath.sqrt(-1) * sigma * llambda)/light_speed)\n"
     ]
    },
    {
     "name": "stdout",
     "output_type": "stream",
     "text": [
      "Computing TBs for member  mem005\n"
     ]
    },
    {
     "name": "stderr",
     "output_type": "stream",
     "text": [
      "/home/marinadm/rtm_da/./rtm_dal/rtm_amsr_fcts.py:152: RuntimeWarning: invalid value encountered in divide\n",
      "  epsilon = epsilon_R + ((epsilon_S - epsilon_R)/(1.0 + ((cmath.sqrt(-1) * lambda_R)/llambda)**(1.0 - ny))) - ((2.0 * cmath.sqrt(-1) * sigma * llambda)/light_speed)\n"
     ]
    },
    {
     "name": "stdout",
     "output_type": "stream",
     "text": [
      "Computing TBs for member  mem006\n"
     ]
    },
    {
     "name": "stderr",
     "output_type": "stream",
     "text": [
      "/home/marinadm/rtm_da/./rtm_dal/rtm_amsr_fcts.py:152: RuntimeWarning: invalid value encountered in divide\n",
      "  epsilon = epsilon_R + ((epsilon_S - epsilon_R)/(1.0 + ((cmath.sqrt(-1) * lambda_R)/llambda)**(1.0 - ny))) - ((2.0 * cmath.sqrt(-1) * sigma * llambda)/light_speed)\n"
     ]
    },
    {
     "name": "stdout",
     "output_type": "stream",
     "text": [
      "Computing TBs for member  mem007\n"
     ]
    },
    {
     "name": "stderr",
     "output_type": "stream",
     "text": [
      "/home/marinadm/rtm_da/./rtm_dal/rtm_amsr_fcts.py:152: RuntimeWarning: invalid value encountered in divide\n",
      "  epsilon = epsilon_R + ((epsilon_S - epsilon_R)/(1.0 + ((cmath.sqrt(-1) * lambda_R)/llambda)**(1.0 - ny))) - ((2.0 * cmath.sqrt(-1) * sigma * llambda)/light_speed)\n"
     ]
    },
    {
     "name": "stdout",
     "output_type": "stream",
     "text": [
      "Computing TBs for member  mem008\n"
     ]
    },
    {
     "name": "stderr",
     "output_type": "stream",
     "text": [
      "/home/marinadm/rtm_da/./rtm_dal/rtm_amsr_fcts.py:152: RuntimeWarning: invalid value encountered in divide\n",
      "  epsilon = epsilon_R + ((epsilon_S - epsilon_R)/(1.0 + ((cmath.sqrt(-1) * lambda_R)/llambda)**(1.0 - ny))) - ((2.0 * cmath.sqrt(-1) * sigma * llambda)/light_speed)\n"
     ]
    },
    {
     "name": "stdout",
     "output_type": "stream",
     "text": [
      "Computing TBs for member  mem009\n"
     ]
    },
    {
     "name": "stderr",
     "output_type": "stream",
     "text": [
      "/home/marinadm/rtm_da/./rtm_dal/rtm_amsr_fcts.py:152: RuntimeWarning: invalid value encountered in divide\n",
      "  epsilon = epsilon_R + ((epsilon_S - epsilon_R)/(1.0 + ((cmath.sqrt(-1) * lambda_R)/llambda)**(1.0 - ny))) - ((2.0 * cmath.sqrt(-1) * sigma * llambda)/light_speed)\n"
     ]
    },
    {
     "name": "stdout",
     "output_type": "stream",
     "text": [
      "Computing TBs for member  mem010\n"
     ]
    },
    {
     "name": "stderr",
     "output_type": "stream",
     "text": [
      "/home/marinadm/rtm_da/./rtm_dal/rtm_amsr_fcts.py:152: RuntimeWarning: invalid value encountered in divide\n",
      "  epsilon = epsilon_R + ((epsilon_S - epsilon_R)/(1.0 + ((cmath.sqrt(-1) * lambda_R)/llambda)**(1.0 - ny))) - ((2.0 * cmath.sqrt(-1) * sigma * llambda)/light_speed)\n"
     ]
    },
    {
     "name": "stdout",
     "output_type": "stream",
     "text": [
      "Computing TBs for channel  19h\n",
      "Computing TBs for member  mem001\n"
     ]
    },
    {
     "name": "stderr",
     "output_type": "stream",
     "text": [
      "/home/marinadm/rtm_da/./rtm_dal/rtm_amsr_fcts.py:152: RuntimeWarning: invalid value encountered in divide\n",
      "  epsilon = epsilon_R + ((epsilon_S - epsilon_R)/(1.0 + ((cmath.sqrt(-1) * lambda_R)/llambda)**(1.0 - ny))) - ((2.0 * cmath.sqrt(-1) * sigma * llambda)/light_speed)\n"
     ]
    },
    {
     "name": "stdout",
     "output_type": "stream",
     "text": [
      "Computing TBs for member  mem002\n"
     ]
    },
    {
     "name": "stderr",
     "output_type": "stream",
     "text": [
      "/home/marinadm/rtm_da/./rtm_dal/rtm_amsr_fcts.py:152: RuntimeWarning: invalid value encountered in divide\n",
      "  epsilon = epsilon_R + ((epsilon_S - epsilon_R)/(1.0 + ((cmath.sqrt(-1) * lambda_R)/llambda)**(1.0 - ny))) - ((2.0 * cmath.sqrt(-1) * sigma * llambda)/light_speed)\n"
     ]
    },
    {
     "name": "stdout",
     "output_type": "stream",
     "text": [
      "Computing TBs for member  mem003\n"
     ]
    },
    {
     "name": "stderr",
     "output_type": "stream",
     "text": [
      "/home/marinadm/rtm_da/./rtm_dal/rtm_amsr_fcts.py:152: RuntimeWarning: invalid value encountered in divide\n",
      "  epsilon = epsilon_R + ((epsilon_S - epsilon_R)/(1.0 + ((cmath.sqrt(-1) * lambda_R)/llambda)**(1.0 - ny))) - ((2.0 * cmath.sqrt(-1) * sigma * llambda)/light_speed)\n"
     ]
    },
    {
     "name": "stdout",
     "output_type": "stream",
     "text": [
      "Computing TBs for member  mem004\n"
     ]
    },
    {
     "name": "stderr",
     "output_type": "stream",
     "text": [
      "/home/marinadm/rtm_da/./rtm_dal/rtm_amsr_fcts.py:152: RuntimeWarning: invalid value encountered in divide\n",
      "  epsilon = epsilon_R + ((epsilon_S - epsilon_R)/(1.0 + ((cmath.sqrt(-1) * lambda_R)/llambda)**(1.0 - ny))) - ((2.0 * cmath.sqrt(-1) * sigma * llambda)/light_speed)\n"
     ]
    },
    {
     "name": "stdout",
     "output_type": "stream",
     "text": [
      "Computing TBs for member  mem005\n"
     ]
    },
    {
     "name": "stderr",
     "output_type": "stream",
     "text": [
      "/home/marinadm/rtm_da/./rtm_dal/rtm_amsr_fcts.py:152: RuntimeWarning: invalid value encountered in divide\n",
      "  epsilon = epsilon_R + ((epsilon_S - epsilon_R)/(1.0 + ((cmath.sqrt(-1) * lambda_R)/llambda)**(1.0 - ny))) - ((2.0 * cmath.sqrt(-1) * sigma * llambda)/light_speed)\n"
     ]
    },
    {
     "name": "stdout",
     "output_type": "stream",
     "text": [
      "Computing TBs for member  mem006\n"
     ]
    },
    {
     "name": "stderr",
     "output_type": "stream",
     "text": [
      "/home/marinadm/rtm_da/./rtm_dal/rtm_amsr_fcts.py:152: RuntimeWarning: invalid value encountered in divide\n",
      "  epsilon = epsilon_R + ((epsilon_S - epsilon_R)/(1.0 + ((cmath.sqrt(-1) * lambda_R)/llambda)**(1.0 - ny))) - ((2.0 * cmath.sqrt(-1) * sigma * llambda)/light_speed)\n"
     ]
    },
    {
     "name": "stdout",
     "output_type": "stream",
     "text": [
      "Computing TBs for member  mem007\n"
     ]
    },
    {
     "name": "stderr",
     "output_type": "stream",
     "text": [
      "/home/marinadm/rtm_da/./rtm_dal/rtm_amsr_fcts.py:152: RuntimeWarning: invalid value encountered in divide\n",
      "  epsilon = epsilon_R + ((epsilon_S - epsilon_R)/(1.0 + ((cmath.sqrt(-1) * lambda_R)/llambda)**(1.0 - ny))) - ((2.0 * cmath.sqrt(-1) * sigma * llambda)/light_speed)\n"
     ]
    },
    {
     "name": "stdout",
     "output_type": "stream",
     "text": [
      "Computing TBs for member  mem008\n"
     ]
    },
    {
     "name": "stderr",
     "output_type": "stream",
     "text": [
      "/home/marinadm/rtm_da/./rtm_dal/rtm_amsr_fcts.py:152: RuntimeWarning: invalid value encountered in divide\n",
      "  epsilon = epsilon_R + ((epsilon_S - epsilon_R)/(1.0 + ((cmath.sqrt(-1) * lambda_R)/llambda)**(1.0 - ny))) - ((2.0 * cmath.sqrt(-1) * sigma * llambda)/light_speed)\n"
     ]
    },
    {
     "name": "stdout",
     "output_type": "stream",
     "text": [
      "Computing TBs for member  mem009\n"
     ]
    },
    {
     "name": "stderr",
     "output_type": "stream",
     "text": [
      "/home/marinadm/rtm_da/./rtm_dal/rtm_amsr_fcts.py:152: RuntimeWarning: invalid value encountered in divide\n",
      "  epsilon = epsilon_R + ((epsilon_S - epsilon_R)/(1.0 + ((cmath.sqrt(-1) * lambda_R)/llambda)**(1.0 - ny))) - ((2.0 * cmath.sqrt(-1) * sigma * llambda)/light_speed)\n"
     ]
    },
    {
     "name": "stdout",
     "output_type": "stream",
     "text": [
      "Computing TBs for member  mem010\n"
     ]
    },
    {
     "name": "stderr",
     "output_type": "stream",
     "text": [
      "/home/marinadm/rtm_da/./rtm_dal/rtm_amsr_fcts.py:152: RuntimeWarning: invalid value encountered in divide\n",
      "  epsilon = epsilon_R + ((epsilon_S - epsilon_R)/(1.0 + ((cmath.sqrt(-1) * lambda_R)/llambda)**(1.0 - ny))) - ((2.0 * cmath.sqrt(-1) * sigma * llambda)/light_speed)\n"
     ]
    },
    {
     "name": "stdout",
     "output_type": "stream",
     "text": [
      "Computing TBs for channel  37v\n",
      "Computing TBs for member  mem001\n"
     ]
    },
    {
     "name": "stderr",
     "output_type": "stream",
     "text": [
      "/home/marinadm/rtm_da/./rtm_dal/rtm_amsr_fcts.py:152: RuntimeWarning: invalid value encountered in divide\n",
      "  epsilon = epsilon_R + ((epsilon_S - epsilon_R)/(1.0 + ((cmath.sqrt(-1) * lambda_R)/llambda)**(1.0 - ny))) - ((2.0 * cmath.sqrt(-1) * sigma * llambda)/light_speed)\n"
     ]
    },
    {
     "name": "stdout",
     "output_type": "stream",
     "text": [
      "Computing TBs for member  mem002\n"
     ]
    },
    {
     "name": "stderr",
     "output_type": "stream",
     "text": [
      "/home/marinadm/rtm_da/./rtm_dal/rtm_amsr_fcts.py:152: RuntimeWarning: invalid value encountered in divide\n",
      "  epsilon = epsilon_R + ((epsilon_S - epsilon_R)/(1.0 + ((cmath.sqrt(-1) * lambda_R)/llambda)**(1.0 - ny))) - ((2.0 * cmath.sqrt(-1) * sigma * llambda)/light_speed)\n"
     ]
    },
    {
     "name": "stdout",
     "output_type": "stream",
     "text": [
      "Computing TBs for member  mem003\n"
     ]
    },
    {
     "name": "stderr",
     "output_type": "stream",
     "text": [
      "/home/marinadm/rtm_da/./rtm_dal/rtm_amsr_fcts.py:152: RuntimeWarning: invalid value encountered in divide\n",
      "  epsilon = epsilon_R + ((epsilon_S - epsilon_R)/(1.0 + ((cmath.sqrt(-1) * lambda_R)/llambda)**(1.0 - ny))) - ((2.0 * cmath.sqrt(-1) * sigma * llambda)/light_speed)\n"
     ]
    },
    {
     "name": "stdout",
     "output_type": "stream",
     "text": [
      "Computing TBs for member  mem004\n"
     ]
    },
    {
     "name": "stderr",
     "output_type": "stream",
     "text": [
      "/home/marinadm/rtm_da/./rtm_dal/rtm_amsr_fcts.py:152: RuntimeWarning: invalid value encountered in divide\n",
      "  epsilon = epsilon_R + ((epsilon_S - epsilon_R)/(1.0 + ((cmath.sqrt(-1) * lambda_R)/llambda)**(1.0 - ny))) - ((2.0 * cmath.sqrt(-1) * sigma * llambda)/light_speed)\n"
     ]
    },
    {
     "name": "stdout",
     "output_type": "stream",
     "text": [
      "Computing TBs for member  mem005\n"
     ]
    },
    {
     "name": "stderr",
     "output_type": "stream",
     "text": [
      "/home/marinadm/rtm_da/./rtm_dal/rtm_amsr_fcts.py:152: RuntimeWarning: invalid value encountered in divide\n",
      "  epsilon = epsilon_R + ((epsilon_S - epsilon_R)/(1.0 + ((cmath.sqrt(-1) * lambda_R)/llambda)**(1.0 - ny))) - ((2.0 * cmath.sqrt(-1) * sigma * llambda)/light_speed)\n"
     ]
    },
    {
     "name": "stdout",
     "output_type": "stream",
     "text": [
      "Computing TBs for member  mem006\n"
     ]
    },
    {
     "name": "stderr",
     "output_type": "stream",
     "text": [
      "/home/marinadm/rtm_da/./rtm_dal/rtm_amsr_fcts.py:152: RuntimeWarning: invalid value encountered in divide\n",
      "  epsilon = epsilon_R + ((epsilon_S - epsilon_R)/(1.0 + ((cmath.sqrt(-1) * lambda_R)/llambda)**(1.0 - ny))) - ((2.0 * cmath.sqrt(-1) * sigma * llambda)/light_speed)\n"
     ]
    },
    {
     "name": "stdout",
     "output_type": "stream",
     "text": [
      "Computing TBs for member  mem007\n"
     ]
    },
    {
     "name": "stderr",
     "output_type": "stream",
     "text": [
      "/home/marinadm/rtm_da/./rtm_dal/rtm_amsr_fcts.py:152: RuntimeWarning: invalid value encountered in divide\n",
      "  epsilon = epsilon_R + ((epsilon_S - epsilon_R)/(1.0 + ((cmath.sqrt(-1) * lambda_R)/llambda)**(1.0 - ny))) - ((2.0 * cmath.sqrt(-1) * sigma * llambda)/light_speed)\n"
     ]
    },
    {
     "name": "stdout",
     "output_type": "stream",
     "text": [
      "Computing TBs for member  mem008\n"
     ]
    },
    {
     "name": "stderr",
     "output_type": "stream",
     "text": [
      "/home/marinadm/rtm_da/./rtm_dal/rtm_amsr_fcts.py:152: RuntimeWarning: invalid value encountered in divide\n",
      "  epsilon = epsilon_R + ((epsilon_S - epsilon_R)/(1.0 + ((cmath.sqrt(-1) * lambda_R)/llambda)**(1.0 - ny))) - ((2.0 * cmath.sqrt(-1) * sigma * llambda)/light_speed)\n"
     ]
    },
    {
     "name": "stdout",
     "output_type": "stream",
     "text": [
      "Computing TBs for member  mem009\n"
     ]
    },
    {
     "name": "stderr",
     "output_type": "stream",
     "text": [
      "/home/marinadm/rtm_da/./rtm_dal/rtm_amsr_fcts.py:152: RuntimeWarning: invalid value encountered in divide\n",
      "  epsilon = epsilon_R + ((epsilon_S - epsilon_R)/(1.0 + ((cmath.sqrt(-1) * lambda_R)/llambda)**(1.0 - ny))) - ((2.0 * cmath.sqrt(-1) * sigma * llambda)/light_speed)\n"
     ]
    },
    {
     "name": "stdout",
     "output_type": "stream",
     "text": [
      "Computing TBs for member  mem010\n"
     ]
    },
    {
     "name": "stderr",
     "output_type": "stream",
     "text": [
      "/home/marinadm/rtm_da/./rtm_dal/rtm_amsr_fcts.py:152: RuntimeWarning: invalid value encountered in divide\n",
      "  epsilon = epsilon_R + ((epsilon_S - epsilon_R)/(1.0 + ((cmath.sqrt(-1) * lambda_R)/llambda)**(1.0 - ny))) - ((2.0 * cmath.sqrt(-1) * sigma * llambda)/light_speed)\n"
     ]
    },
    {
     "name": "stdout",
     "output_type": "stream",
     "text": [
      "Computing TBs for channel  37h\n",
      "Computing TBs for member  mem001\n"
     ]
    },
    {
     "name": "stderr",
     "output_type": "stream",
     "text": [
      "/home/marinadm/rtm_da/./rtm_dal/rtm_amsr_fcts.py:152: RuntimeWarning: invalid value encountered in divide\n",
      "  epsilon = epsilon_R + ((epsilon_S - epsilon_R)/(1.0 + ((cmath.sqrt(-1) * lambda_R)/llambda)**(1.0 - ny))) - ((2.0 * cmath.sqrt(-1) * sigma * llambda)/light_speed)\n"
     ]
    },
    {
     "name": "stdout",
     "output_type": "stream",
     "text": [
      "Computing TBs for member  mem002\n"
     ]
    },
    {
     "name": "stderr",
     "output_type": "stream",
     "text": [
      "/home/marinadm/rtm_da/./rtm_dal/rtm_amsr_fcts.py:152: RuntimeWarning: invalid value encountered in divide\n",
      "  epsilon = epsilon_R + ((epsilon_S - epsilon_R)/(1.0 + ((cmath.sqrt(-1) * lambda_R)/llambda)**(1.0 - ny))) - ((2.0 * cmath.sqrt(-1) * sigma * llambda)/light_speed)\n"
     ]
    },
    {
     "name": "stdout",
     "output_type": "stream",
     "text": [
      "Computing TBs for member  mem003\n"
     ]
    },
    {
     "name": "stderr",
     "output_type": "stream",
     "text": [
      "/home/marinadm/rtm_da/./rtm_dal/rtm_amsr_fcts.py:152: RuntimeWarning: invalid value encountered in divide\n",
      "  epsilon = epsilon_R + ((epsilon_S - epsilon_R)/(1.0 + ((cmath.sqrt(-1) * lambda_R)/llambda)**(1.0 - ny))) - ((2.0 * cmath.sqrt(-1) * sigma * llambda)/light_speed)\n"
     ]
    },
    {
     "name": "stdout",
     "output_type": "stream",
     "text": [
      "Computing TBs for member  mem004\n"
     ]
    },
    {
     "name": "stderr",
     "output_type": "stream",
     "text": [
      "/home/marinadm/rtm_da/./rtm_dal/rtm_amsr_fcts.py:152: RuntimeWarning: invalid value encountered in divide\n",
      "  epsilon = epsilon_R + ((epsilon_S - epsilon_R)/(1.0 + ((cmath.sqrt(-1) * lambda_R)/llambda)**(1.0 - ny))) - ((2.0 * cmath.sqrt(-1) * sigma * llambda)/light_speed)\n"
     ]
    },
    {
     "name": "stdout",
     "output_type": "stream",
     "text": [
      "Computing TBs for member  mem005\n"
     ]
    },
    {
     "name": "stderr",
     "output_type": "stream",
     "text": [
      "/home/marinadm/rtm_da/./rtm_dal/rtm_amsr_fcts.py:152: RuntimeWarning: invalid value encountered in divide\n",
      "  epsilon = epsilon_R + ((epsilon_S - epsilon_R)/(1.0 + ((cmath.sqrt(-1) * lambda_R)/llambda)**(1.0 - ny))) - ((2.0 * cmath.sqrt(-1) * sigma * llambda)/light_speed)\n"
     ]
    },
    {
     "name": "stdout",
     "output_type": "stream",
     "text": [
      "Computing TBs for member  mem006\n"
     ]
    },
    {
     "name": "stderr",
     "output_type": "stream",
     "text": [
      "/home/marinadm/rtm_da/./rtm_dal/rtm_amsr_fcts.py:152: RuntimeWarning: invalid value encountered in divide\n",
      "  epsilon = epsilon_R + ((epsilon_S - epsilon_R)/(1.0 + ((cmath.sqrt(-1) * lambda_R)/llambda)**(1.0 - ny))) - ((2.0 * cmath.sqrt(-1) * sigma * llambda)/light_speed)\n"
     ]
    },
    {
     "name": "stdout",
     "output_type": "stream",
     "text": [
      "Computing TBs for member  mem007\n"
     ]
    },
    {
     "name": "stderr",
     "output_type": "stream",
     "text": [
      "/home/marinadm/rtm_da/./rtm_dal/rtm_amsr_fcts.py:152: RuntimeWarning: invalid value encountered in divide\n",
      "  epsilon = epsilon_R + ((epsilon_S - epsilon_R)/(1.0 + ((cmath.sqrt(-1) * lambda_R)/llambda)**(1.0 - ny))) - ((2.0 * cmath.sqrt(-1) * sigma * llambda)/light_speed)\n"
     ]
    },
    {
     "name": "stdout",
     "output_type": "stream",
     "text": [
      "Computing TBs for member  mem008\n"
     ]
    },
    {
     "name": "stderr",
     "output_type": "stream",
     "text": [
      "/home/marinadm/rtm_da/./rtm_dal/rtm_amsr_fcts.py:152: RuntimeWarning: invalid value encountered in divide\n",
      "  epsilon = epsilon_R + ((epsilon_S - epsilon_R)/(1.0 + ((cmath.sqrt(-1) * lambda_R)/llambda)**(1.0 - ny))) - ((2.0 * cmath.sqrt(-1) * sigma * llambda)/light_speed)\n"
     ]
    },
    {
     "name": "stdout",
     "output_type": "stream",
     "text": [
      "Computing TBs for member  mem009\n"
     ]
    },
    {
     "name": "stderr",
     "output_type": "stream",
     "text": [
      "/home/marinadm/rtm_da/./rtm_dal/rtm_amsr_fcts.py:152: RuntimeWarning: invalid value encountered in divide\n",
      "  epsilon = epsilon_R + ((epsilon_S - epsilon_R)/(1.0 + ((cmath.sqrt(-1) * lambda_R)/llambda)**(1.0 - ny))) - ((2.0 * cmath.sqrt(-1) * sigma * llambda)/light_speed)\n"
     ]
    },
    {
     "name": "stdout",
     "output_type": "stream",
     "text": [
      "Computing TBs for member  mem010\n"
     ]
    },
    {
     "name": "stderr",
     "output_type": "stream",
     "text": [
      "/home/marinadm/rtm_da/./rtm_dal/rtm_amsr_fcts.py:152: RuntimeWarning: invalid value encountered in divide\n",
      "  epsilon = epsilon_R + ((epsilon_S - epsilon_R)/(1.0 + ((cmath.sqrt(-1) * lambda_R)/llambda)**(1.0 - ny))) - ((2.0 * cmath.sqrt(-1) * sigma * llambda)/light_speed)\n"
     ]
    }
   ],
   "source": [
    "res = run_rtm(date, sat_dir, topaz5_dir, days_forecast = fdays, version = 1, coeffs_filename = coeffs_filename_date)"
   ]
  },
  {
   "cell_type": "markdown",
   "id": "459feee2-14ed-42c7-8fa8-d08a21ce8c9d",
   "metadata": {},
   "source": [
    "### Create directory where RTM TBs will be saved"
   ]
  },
  {
   "cell_type": "code",
   "execution_count": 8,
   "id": "4bb384e4-9bfe-476e-9ef4-5cb5d03f1970",
   "metadata": {},
   "outputs": [
    {
     "name": "stdout",
     "output_type": "stream",
     "text": [
      "mkdir -p /lustre/storeB/project/fou/fd/project/acciberg/marina/topaz_tbs/20240118\n",
      "mkdir -p /lustre/storeB/project/fou/fd/project/acciberg/marina/topaz_tbs/20240118/tbs_10fdays/\n"
     ]
    },
    {
     "data": {
      "text/plain": [
       "0"
      ]
     },
     "execution_count": 8,
     "metadata": {},
     "output_type": "execute_result"
    }
   ],
   "source": [
    "cmd('mkdir -p ' + f\"{rtm_tbs_dir}{date}\")\n",
    "cmd('mkdir -p ' + f\"{rtm_tbs_dir}{date}/tbs_{fdays}fdays/\")"
   ]
  },
  {
   "cell_type": "markdown",
   "id": "3994a4ac-fd53-436b-bf84-75502044ac76",
   "metadata": {},
   "source": [
    "### Create netCDF files containing RTM TBs and saved them in the previously defined directory"
   ]
  },
  {
   "cell_type": "code",
   "execution_count": 9,
   "id": "90d84321-7e6a-494e-8ff7-7cb7224eb453",
   "metadata": {},
   "outputs": [],
   "source": [
    "save_rtm_tbs(date, res[0], f\"{rtm_tbs_dir}{date}/tbs_{fdays}fdays/\")"
   ]
  }
 ],
 "metadata": {
  "kernelspec": {
   "display_name": "Python 3 (ipykernel)",
   "language": "python",
   "name": "python3"
  },
  "language_info": {
   "codemirror_mode": {
    "name": "ipython",
    "version": 3
   },
   "file_extension": ".py",
   "mimetype": "text/x-python",
   "name": "python",
   "nbconvert_exporter": "python",
   "pygments_lexer": "ipython3",
   "version": "3.9.13"
  }
 },
 "nbformat": 4,
 "nbformat_minor": 5
}
